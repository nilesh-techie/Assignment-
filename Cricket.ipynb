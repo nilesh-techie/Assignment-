{
 "cells": [
  {
   "cell_type": "code",
   "execution_count": 3,
   "id": "246c2923",
   "metadata": {},
   "outputs": [
    {
     "name": "stdout",
     "output_type": "stream",
     "text": [
      "             Name  Roll_no  Age    M1  M2    M3  M4\n",
      "0        Ms Dhoni        7   19  88.0  98  88.0  88\n",
      "1     Virat Kohli       18   19  96.0  96  96.0  96\n",
      "2    Rohit Sharma       45   18  85.0  85   NaN  85\n",
      "3      Axar Patel       20   19  73.0  73  73.0  73\n",
      "4    Nilesh Nayak        8   19  64.0  74  64.0  64\n",
      "5   Hardik Pandya       33   19   NaN  39  39.0  39\n",
      "6    Suresh Raina        3   20  54.0  64  54.0  54\n",
      "7  Shikhar Dhawan       42   19  63.0  63  63.0  63\n",
      "8     Ravi Ashwin       99   19  45.0  45  45.0  45\n",
      "9  Jasprit Bumrah       93   19  99.0  99  99.0  99\n"
     ]
    }
   ],
   "source": [
    "import pandas as pd\n",
    "import numpy as np\n",
    "Cricketer={'Name':['Ms Dhoni','Virat Kohli','Rohit Sharma','Axar Patel','Nilesh Nayak','Hardik Pandya','Suresh Raina','Shikhar Dhawan','Ravi Ashwin','Jasprit Bumrah'],\n",
    "         'Roll_no':[7,18,45,20,8,33,3,42,99,93],\n",
    "         'Age':[19,19,18,19,19,19,20,19,19,19],\n",
    "         'M1':[88,96,85,73,64,np.NaN,54,63,45,99],\n",
    "         'M2':[98,96,85,73,74,39,64,63,45,99],\n",
    "         'M3':[88,96,np.NaN,73,64,39,54,63,45,99],\n",
    "         'M4':[88,96,85,73,64,39,54,63,45,99]}\n",
    "df=pd.DataFrame(Cricketer)\n",
    "print(df)"
   ]
  },
  {
   "cell_type": "code",
   "execution_count": 4,
   "id": "9712a5d5",
   "metadata": {},
   "outputs": [
    {
     "data": {
      "text/html": [
       "<div>\n",
       "<style scoped>\n",
       "    .dataframe tbody tr th:only-of-type {\n",
       "        vertical-align: middle;\n",
       "    }\n",
       "\n",
       "    .dataframe tbody tr th {\n",
       "        vertical-align: top;\n",
       "    }\n",
       "\n",
       "    .dataframe thead th {\n",
       "        text-align: right;\n",
       "    }\n",
       "</style>\n",
       "<table border=\"1\" class=\"dataframe\">\n",
       "  <thead>\n",
       "    <tr style=\"text-align: right;\">\n",
       "      <th></th>\n",
       "      <th>Name</th>\n",
       "      <th>Roll_no</th>\n",
       "      <th>Age</th>\n",
       "      <th>M1</th>\n",
       "      <th>M2</th>\n",
       "      <th>M3</th>\n",
       "      <th>M4</th>\n",
       "    </tr>\n",
       "  </thead>\n",
       "  <tbody>\n",
       "    <tr>\n",
       "      <th>0</th>\n",
       "      <td>Ms Dhoni</td>\n",
       "      <td>7</td>\n",
       "      <td>19</td>\n",
       "      <td>88.0</td>\n",
       "      <td>98</td>\n",
       "      <td>88.0</td>\n",
       "      <td>88</td>\n",
       "    </tr>\n",
       "    <tr>\n",
       "      <th>1</th>\n",
       "      <td>Virat Kohli</td>\n",
       "      <td>18</td>\n",
       "      <td>19</td>\n",
       "      <td>96.0</td>\n",
       "      <td>96</td>\n",
       "      <td>96.0</td>\n",
       "      <td>96</td>\n",
       "    </tr>\n",
       "    <tr>\n",
       "      <th>3</th>\n",
       "      <td>Axar Patel</td>\n",
       "      <td>20</td>\n",
       "      <td>19</td>\n",
       "      <td>73.0</td>\n",
       "      <td>73</td>\n",
       "      <td>73.0</td>\n",
       "      <td>73</td>\n",
       "    </tr>\n",
       "    <tr>\n",
       "      <th>4</th>\n",
       "      <td>Nilesh Nayak</td>\n",
       "      <td>8</td>\n",
       "      <td>19</td>\n",
       "      <td>64.0</td>\n",
       "      <td>74</td>\n",
       "      <td>64.0</td>\n",
       "      <td>64</td>\n",
       "    </tr>\n",
       "    <tr>\n",
       "      <th>6</th>\n",
       "      <td>Suresh Raina</td>\n",
       "      <td>3</td>\n",
       "      <td>20</td>\n",
       "      <td>54.0</td>\n",
       "      <td>64</td>\n",
       "      <td>54.0</td>\n",
       "      <td>54</td>\n",
       "    </tr>\n",
       "    <tr>\n",
       "      <th>7</th>\n",
       "      <td>Shikhar Dhawan</td>\n",
       "      <td>42</td>\n",
       "      <td>19</td>\n",
       "      <td>63.0</td>\n",
       "      <td>63</td>\n",
       "      <td>63.0</td>\n",
       "      <td>63</td>\n",
       "    </tr>\n",
       "    <tr>\n",
       "      <th>8</th>\n",
       "      <td>Ravi Ashwin</td>\n",
       "      <td>99</td>\n",
       "      <td>19</td>\n",
       "      <td>45.0</td>\n",
       "      <td>45</td>\n",
       "      <td>45.0</td>\n",
       "      <td>45</td>\n",
       "    </tr>\n",
       "    <tr>\n",
       "      <th>9</th>\n",
       "      <td>Jasprit Bumrah</td>\n",
       "      <td>93</td>\n",
       "      <td>19</td>\n",
       "      <td>99.0</td>\n",
       "      <td>99</td>\n",
       "      <td>99.0</td>\n",
       "      <td>99</td>\n",
       "    </tr>\n",
       "  </tbody>\n",
       "</table>\n",
       "</div>"
      ],
      "text/plain": [
       "             Name  Roll_no  Age    M1  M2    M3  M4\n",
       "0        Ms Dhoni        7   19  88.0  98  88.0  88\n",
       "1     Virat Kohli       18   19  96.0  96  96.0  96\n",
       "3      Axar Patel       20   19  73.0  73  73.0  73\n",
       "4    Nilesh Nayak        8   19  64.0  74  64.0  64\n",
       "6    Suresh Raina        3   20  54.0  64  54.0  54\n",
       "7  Shikhar Dhawan       42   19  63.0  63  63.0  63\n",
       "8     Ravi Ashwin       99   19  45.0  45  45.0  45\n",
       "9  Jasprit Bumrah       93   19  99.0  99  99.0  99"
      ]
     },
     "execution_count": 4,
     "metadata": {},
     "output_type": "execute_result"
    }
   ],
   "source": [
    "df.dropna()"
   ]
  },
  {
   "cell_type": "code",
   "execution_count": 6,
   "id": "7086e6a7",
   "metadata": {},
   "outputs": [
    {
     "name": "stdout",
     "output_type": "stream",
     "text": [
      "             Name  Roll_no  Age    M1  M2    M3  M4\n",
      "0        Ms Dhoni        7   19  88.0  98  88.0  88\n",
      "1     Virat Kohli       18   19  96.0  96  96.0  96\n",
      "2    Rohit Sharma       45   18  85.0  85   NaN  85\n",
      "3      Axar Patel       20   19  73.0  73  73.0  73\n",
      "4    Nilesh Nayak        8   19  64.0  74  64.0  64\n",
      "5   Hardik Pandya       33   19   NaN  39  39.0  39\n",
      "6    Suresh Raina        3   20  54.0  64  54.0  54\n",
      "7  Shikhar Dhawan       42   19  63.0  63  63.0  63\n",
      "8     Ravi Ashwin       99   19  45.0  45  45.0  45\n",
      "9  Jasprit Bumrah       93   19  99.0  99  99.0  99\n"
     ]
    }
   ],
   "source": [
    "import pandas as pd\n",
    "import numpy as np\n",
    "Cricketer={'Name':['Ms Dhoni','Virat Kohli','Rohit Sharma','Axar Patel','Nilesh Nayak','Hardik Pandya','Suresh Raina','Shikhar Dhawan','Ravi Ashwin','Jasprit Bumrah'],\n",
    "         'Roll_no':[7,18,45,20,8,33,3,42,99,93],\n",
    "         'Age':[19,19,18,19,19,19,20,19,19,19],\n",
    "         'M1':[88,96,85,73,64,np.NaN,54,63,45,99],\n",
    "         'M2':[98,96,85,73,74,39,64,63,45,99],\n",
    "         'M3':[88,96,np.NaN,73,64,39,54,63,45,99],\n",
    "         'M4':[88,96,85,73,64,39,54,63,45,99]}\n",
    "df=pd.DataFrame(Cricketer)\n",
    "print(df)"
   ]
  },
  {
   "cell_type": "code",
   "execution_count": 7,
   "id": "2bb14f80",
   "metadata": {},
   "outputs": [
    {
     "data": {
      "text/html": [
       "<div>\n",
       "<style scoped>\n",
       "    .dataframe tbody tr th:only-of-type {\n",
       "        vertical-align: middle;\n",
       "    }\n",
       "\n",
       "    .dataframe tbody tr th {\n",
       "        vertical-align: top;\n",
       "    }\n",
       "\n",
       "    .dataframe thead th {\n",
       "        text-align: right;\n",
       "    }\n",
       "</style>\n",
       "<table border=\"1\" class=\"dataframe\">\n",
       "  <thead>\n",
       "    <tr style=\"text-align: right;\">\n",
       "      <th></th>\n",
       "      <th>Name</th>\n",
       "      <th>Roll_no</th>\n",
       "      <th>Age</th>\n",
       "      <th>M1</th>\n",
       "      <th>M2</th>\n",
       "      <th>M3</th>\n",
       "      <th>M4</th>\n",
       "    </tr>\n",
       "  </thead>\n",
       "  <tbody>\n",
       "    <tr>\n",
       "      <th>0</th>\n",
       "      <td>Ms Dhoni</td>\n",
       "      <td>7</td>\n",
       "      <td>19</td>\n",
       "      <td>88.0</td>\n",
       "      <td>98</td>\n",
       "      <td>88.0</td>\n",
       "      <td>88</td>\n",
       "    </tr>\n",
       "    <tr>\n",
       "      <th>1</th>\n",
       "      <td>Virat Kohli</td>\n",
       "      <td>18</td>\n",
       "      <td>19</td>\n",
       "      <td>96.0</td>\n",
       "      <td>96</td>\n",
       "      <td>96.0</td>\n",
       "      <td>96</td>\n",
       "    </tr>\n",
       "    <tr>\n",
       "      <th>2</th>\n",
       "      <td>Rohit Sharma</td>\n",
       "      <td>45</td>\n",
       "      <td>18</td>\n",
       "      <td>85.0</td>\n",
       "      <td>85</td>\n",
       "      <td>999.0</td>\n",
       "      <td>85</td>\n",
       "    </tr>\n",
       "    <tr>\n",
       "      <th>3</th>\n",
       "      <td>Axar Patel</td>\n",
       "      <td>20</td>\n",
       "      <td>19</td>\n",
       "      <td>73.0</td>\n",
       "      <td>73</td>\n",
       "      <td>73.0</td>\n",
       "      <td>73</td>\n",
       "    </tr>\n",
       "    <tr>\n",
       "      <th>4</th>\n",
       "      <td>Nilesh Nayak</td>\n",
       "      <td>8</td>\n",
       "      <td>19</td>\n",
       "      <td>64.0</td>\n",
       "      <td>74</td>\n",
       "      <td>64.0</td>\n",
       "      <td>64</td>\n",
       "    </tr>\n",
       "    <tr>\n",
       "      <th>5</th>\n",
       "      <td>Hardik Pandya</td>\n",
       "      <td>33</td>\n",
       "      <td>19</td>\n",
       "      <td>999.0</td>\n",
       "      <td>39</td>\n",
       "      <td>39.0</td>\n",
       "      <td>39</td>\n",
       "    </tr>\n",
       "    <tr>\n",
       "      <th>6</th>\n",
       "      <td>Suresh Raina</td>\n",
       "      <td>3</td>\n",
       "      <td>20</td>\n",
       "      <td>54.0</td>\n",
       "      <td>64</td>\n",
       "      <td>54.0</td>\n",
       "      <td>54</td>\n",
       "    </tr>\n",
       "    <tr>\n",
       "      <th>7</th>\n",
       "      <td>Shikhar Dhawan</td>\n",
       "      <td>42</td>\n",
       "      <td>19</td>\n",
       "      <td>63.0</td>\n",
       "      <td>63</td>\n",
       "      <td>63.0</td>\n",
       "      <td>63</td>\n",
       "    </tr>\n",
       "    <tr>\n",
       "      <th>8</th>\n",
       "      <td>Ravi Ashwin</td>\n",
       "      <td>99</td>\n",
       "      <td>19</td>\n",
       "      <td>45.0</td>\n",
       "      <td>45</td>\n",
       "      <td>45.0</td>\n",
       "      <td>45</td>\n",
       "    </tr>\n",
       "    <tr>\n",
       "      <th>9</th>\n",
       "      <td>Jasprit Bumrah</td>\n",
       "      <td>93</td>\n",
       "      <td>19</td>\n",
       "      <td>99.0</td>\n",
       "      <td>99</td>\n",
       "      <td>99.0</td>\n",
       "      <td>99</td>\n",
       "    </tr>\n",
       "  </tbody>\n",
       "</table>\n",
       "</div>"
      ],
      "text/plain": [
       "             Name  Roll_no  Age     M1  M2     M3  M4\n",
       "0        Ms Dhoni        7   19   88.0  98   88.0  88\n",
       "1     Virat Kohli       18   19   96.0  96   96.0  96\n",
       "2    Rohit Sharma       45   18   85.0  85  999.0  85\n",
       "3      Axar Patel       20   19   73.0  73   73.0  73\n",
       "4    Nilesh Nayak        8   19   64.0  74   64.0  64\n",
       "5   Hardik Pandya       33   19  999.0  39   39.0  39\n",
       "6    Suresh Raina        3   20   54.0  64   54.0  54\n",
       "7  Shikhar Dhawan       42   19   63.0  63   63.0  63\n",
       "8     Ravi Ashwin       99   19   45.0  45   45.0  45\n",
       "9  Jasprit Bumrah       93   19   99.0  99   99.0  99"
      ]
     },
     "execution_count": 7,
     "metadata": {},
     "output_type": "execute_result"
    }
   ],
   "source": [
    "df.fillna(999)\n"
   ]
  },
  {
   "cell_type": "code",
   "execution_count": 8,
   "id": "4714e5d8",
   "metadata": {},
   "outputs": [
    {
     "data": {
      "text/plain": [
       "0    88.0\n",
       "1    96.0\n",
       "2    85.0\n",
       "3    73.0\n",
       "4    64.0\n",
       "5    88.0\n",
       "6    54.0\n",
       "7    63.0\n",
       "8    45.0\n",
       "9    99.0\n",
       "Name: M1, dtype: float64"
      ]
     },
     "execution_count": 8,
     "metadata": {},
     "output_type": "execute_result"
    }
   ],
   "source": [
    "df[\"M1\"].fillna(88)"
   ]
  },
  {
   "cell_type": "code",
   "execution_count": 9,
   "id": "56a88670",
   "metadata": {},
   "outputs": [
    {
     "data": {
      "text/plain": [
       "0    88.0\n",
       "1    96.0\n",
       "2    69.0\n",
       "3    73.0\n",
       "4    64.0\n",
       "5    39.0\n",
       "6    54.0\n",
       "7    63.0\n",
       "8    45.0\n",
       "9    99.0\n",
       "Name: M3, dtype: float64"
      ]
     },
     "execution_count": 9,
     "metadata": {},
     "output_type": "execute_result"
    }
   ],
   "source": [
    "x=df[\"M3\"].mean()\n",
    "df[\"M3\"].fillna(x)\n"
   ]
  },
  {
   "cell_type": "code",
   "execution_count": null,
   "id": "f43d51b4",
   "metadata": {},
   "outputs": [],
   "source": [
    "import pandas as pd\n",
    "import numpy as np\n",
    "Cricketer={'Name':['Ms Dhoni','Virat Kohli','Rohit Sharma','Axar Patel','Nilesh Nayak','Hardik Pandya','Suresh Raina','Shikhar Dhawan','Ravi Ashwin','Jasprit Bumrah'],\n",
    "         'Roll_no':[7,18,45,20,8,33,3,42,99,93],\n",
    "         'Age':[19,19,18,19,19,19,20,19,19,19],\n",
    "         'M1':[88,96,85,73,64,np.NaN,54,63,45,99],\n",
    "         'M2':[98,96,85,73,74,39,64,63,45,99],\n",
    "         'M3':[88,96,np.NaN,73,64,39,54,63,45,99],\n",
    "         'M4':[88,96,85,73,64,39,54,63,45,99]}\n",
    "df=pd.DataFrame(Cricketer)\n",
    "print(df)"
   ]
  },
  {
   "cell_type": "code",
   "execution_count": 10,
   "id": "74bd5a87",
   "metadata": {
    "scrolled": true
   },
   "outputs": [
    {
     "data": {
      "text/plain": [
       "0    88.0\n",
       "1    96.0\n",
       "2    85.0\n",
       "3    73.0\n",
       "4    64.0\n",
       "5    73.0\n",
       "6    54.0\n",
       "7    63.0\n",
       "8    45.0\n",
       "9    99.0\n",
       "Name: M1, dtype: float64"
      ]
     },
     "execution_count": 10,
     "metadata": {},
     "output_type": "execute_result"
    }
   ],
   "source": [
    "y=df[\"M1\"].median()\n",
    "df[\"M1\"].fillna(y)"
   ]
  },
  {
   "cell_type": "code",
   "execution_count": 11,
   "id": "16349ee7",
   "metadata": {},
   "outputs": [
    {
     "data": {
      "text/plain": [
       "0      88.0\n",
       "1      96.0\n",
       "2       NaN\n",
       "3      73.0\n",
       "4      64.0\n",
       "5    7896.0\n",
       "6      54.0\n",
       "7      63.0\n",
       "8      45.0\n",
       "9      99.0\n",
       "Name: M3, dtype: float64"
      ]
     },
     "execution_count": 11,
     "metadata": {},
     "output_type": "execute_result"
    }
   ],
   "source": [
    "df.loc[5,'M3']=7896\n",
    "df['M3']"
   ]
  },
  {
   "cell_type": "code",
   "execution_count": 12,
   "id": "b8adb564",
   "metadata": {},
   "outputs": [
    {
     "name": "stdout",
     "output_type": "stream",
     "text": [
      "2       NaN\n",
      "5    7896.0\n",
      "Name: M3, dtype: float64\n"
     ]
    }
   ],
   "source": [
    "for x in df.index:\n",
    "    if df.loc[x,'M3']<100:\n",
    "        df.drop(x,inplace=True)\n",
    "print(df['M3'])    "
   ]
  },
  {
   "cell_type": "code",
   "execution_count": null,
   "id": "358b8acf",
   "metadata": {},
   "outputs": [],
   "source": [
    "import pandas as pd\n",
    "import numpy as np\n",
    "Cricketer={'Name':['Ms Dhoni','Virat Kohli','Rohit Sharma','Axar Patel','Nilesh Nayak','Hardik Pandya','Suresh Raina','Shikhar Dhawan','Ravi Ashwin','Jasprit Bumrah'],\n",
    "         'Roll_no':[7,18,45,20,8,33,3,42,99,93],\n",
    "         'Age':[19,19,18,19,19,19,20,19,19,19],\n",
    "         'M1':[88,96,85,73,64,np.NaN,54,63,45,99],\n",
    "         'M2':[98,96,85,73,74,39,64,63,45,99],\n",
    "         'M3':[88,96,np.NaN,73,64,39,54,63,45,99],\n",
    "         'M4':[88,96,85,73,64,39,54,63,45,99]}\n",
    "df=pd.DataFrame(Cricketer)"
   ]
  },
  {
   "cell_type": "code",
   "execution_count": 13,
   "id": "e578a3f5",
   "metadata": {},
   "outputs": [
    {
     "name": "stdout",
     "output_type": "stream",
     "text": [
      "2   NaN\n",
      "Name: M3, dtype: float64\n"
     ]
    }
   ],
   "source": [
    "for x in df.index:\n",
    "    if df.loc[x,'M3']>100:\n",
    "        df.drop(x,inplace=True)\n",
    "print(df['M3'])  "
   ]
  },
  {
   "cell_type": "code",
   "execution_count": null,
   "id": "09190d7f",
   "metadata": {},
   "outputs": [],
   "source": [
    "import pandas as pd\n",
    "import numpy as np\n",
    "Cricketer={'Name':['Ms Dhoni','Virat Kohli','Rohit Sharma','Axar Patel','Nilesh Nayak','Hardik Pandya','Suresh Raina','Shikhar Dhawan','Ravi Ashwin','Jasprit Bumrah'],\n",
    "         'Roll_no':[7,18,45,20,8,33,3,42,99,93],\n",
    "         'Age':[19,19,18,19,19,19,20,19,19,19],\n",
    "         'M1':[88,96,85,73,64,np.NaN,54,63,45,99],\n",
    "         'M2':[98,96,85,73,74,39,64,63,45,99],\n",
    "         'M3':[88,96,np.NaN,73,64,39,54,63,45,99],\n",
    "         'M4':[88,96,85,73,64,39,54,63,45,99]}\n",
    "df=pd.DataFrame(Cricketer)"
   ]
  },
  {
   "cell_type": "code",
   "execution_count": 14,
   "id": "7678a5a0",
   "metadata": {},
   "outputs": [
    {
     "data": {
      "text/html": [
       "<div>\n",
       "<style scoped>\n",
       "    .dataframe tbody tr th:only-of-type {\n",
       "        vertical-align: middle;\n",
       "    }\n",
       "\n",
       "    .dataframe tbody tr th {\n",
       "        vertical-align: top;\n",
       "    }\n",
       "\n",
       "    .dataframe thead th {\n",
       "        text-align: right;\n",
       "    }\n",
       "</style>\n",
       "<table border=\"1\" class=\"dataframe\">\n",
       "  <thead>\n",
       "    <tr style=\"text-align: right;\">\n",
       "      <th></th>\n",
       "      <th>M1</th>\n",
       "      <th>M2</th>\n",
       "      <th>M3</th>\n",
       "    </tr>\n",
       "  </thead>\n",
       "  <tbody>\n",
       "    <tr>\n",
       "      <th>M1</th>\n",
       "      <td>NaN</td>\n",
       "      <td>NaN</td>\n",
       "      <td>NaN</td>\n",
       "    </tr>\n",
       "    <tr>\n",
       "      <th>M2</th>\n",
       "      <td>NaN</td>\n",
       "      <td>NaN</td>\n",
       "      <td>NaN</td>\n",
       "    </tr>\n",
       "    <tr>\n",
       "      <th>M3</th>\n",
       "      <td>NaN</td>\n",
       "      <td>NaN</td>\n",
       "      <td>NaN</td>\n",
       "    </tr>\n",
       "  </tbody>\n",
       "</table>\n",
       "</div>"
      ],
      "text/plain": [
       "    M1  M2  M3\n",
       "M1 NaN NaN NaN\n",
       "M2 NaN NaN NaN\n",
       "M3 NaN NaN NaN"
      ]
     },
     "execution_count": 14,
     "metadata": {},
     "output_type": "execute_result"
    }
   ],
   "source": [
    "df[['M1','M2','M3']].corr()"
   ]
  },
  {
   "cell_type": "code",
   "execution_count": null,
   "id": "e11df399",
   "metadata": {},
   "outputs": [],
   "source": []
  }
 ],
 "metadata": {
  "kernelspec": {
   "display_name": "Python 3 (ipykernel)",
   "language": "python",
   "name": "python3"
  },
  "language_info": {
   "codemirror_mode": {
    "name": "ipython",
    "version": 3
   },
   "file_extension": ".py",
   "mimetype": "text/x-python",
   "name": "python",
   "nbconvert_exporter": "python",
   "pygments_lexer": "ipython3",
   "version": "3.11.4"
  }
 },
 "nbformat": 4,
 "nbformat_minor": 5
}
