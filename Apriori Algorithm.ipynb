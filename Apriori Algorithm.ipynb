{
 "cells": [
  {
   "cell_type": "code",
   "execution_count": 2,
   "id": "0d7572a8",
   "metadata": {},
   "outputs": [
    {
     "name": "stdout",
     "output_type": "stream",
     "text": [
      "   Tid                        Items_bought\n",
      "0   10                [Beer, Nuts, Diaper]\n",
      "1   20              [Beer, Coffee, Diaper]\n",
      "2   30                [Beer, Diaper, Eggs]\n",
      "3   40                  [Nuts, Eggs, Milk]\n",
      "4   50  [Nuts, Coffee, Diaper, Eggs, Milk]\n"
     ]
    }
   ],
   "source": [
    "import pandas as pd\n",
    "import numpy as np\n",
    "itemset={'Tid':[10,20,30,40,50],\n",
    "         'Items_bought':[['Beer','Nuts','Diaper'],['Beer','Coffee','Diaper'],['Beer','Diaper','Eggs'],['Nuts','Eggs','Milk'],['Nuts','Coffee','Diaper','Eggs','Milk']],\n",
    "         }\n",
    "df=pd.DataFrame(itemset)\n",
    "print(df)"
   ]
  },
  {
   "cell_type": "code",
   "execution_count": 3,
   "id": "74659e3a",
   "metadata": {},
   "outputs": [
    {
     "name": "stdout",
     "output_type": "stream",
     "text": [
      "C1 (Candidate 1-itemsets) and Support Count:\n",
      "Item: Beer, Support Count: 3\n",
      "Item: Nuts, Support Count: 3\n",
      "Item: Diaper, Support Count: 4\n",
      "Item: Coffee, Support Count: 2\n",
      "Item: Eggs, Support Count: 3\n",
      "Item: Milk, Support Count: 2\n",
      "\n",
      "C2 (Candidate 2-itemsets) and Support Count:\n",
      "           2-itemset  Support Count\n",
      "0       (Beer, Nuts)              1\n",
      "1     (Beer, Diaper)              3\n",
      "2     (Beer, Coffee)              1\n",
      "3       (Beer, Eggs)              1\n",
      "4       (Beer, Milk)              0\n",
      "5     (Nuts, Diaper)              2\n",
      "6     (Nuts, Coffee)              1\n",
      "7       (Nuts, Eggs)              2\n",
      "8       (Nuts, Milk)              2\n",
      "9   (Diaper, Coffee)              2\n",
      "10    (Diaper, Eggs)              2\n",
      "11    (Diaper, Milk)              1\n",
      "12    (Coffee, Eggs)              1\n",
      "13    (Coffee, Milk)              1\n",
      "14      (Eggs, Milk)              2\n",
      "\n",
      "L2 (Frequent 2-itemsets) after applying minimum support:\n",
      "          2-itemset  Support Count\n",
      "0    (Beer, Diaper)              3\n",
      "1    (Nuts, Diaper)              2\n",
      "2      (Nuts, Eggs)              2\n",
      "3      (Nuts, Milk)              2\n",
      "4  (Diaper, Coffee)              2\n",
      "5    (Diaper, Eggs)              2\n",
      "6      (Eggs, Milk)              2\n"
     ]
    }
   ],
   "source": [
    "from itertools import combinations\n",
    "all_items = [item for sublist in df['Items_bought'] for item in sublist]\n",
    "item_counts = {}\n",
    "for item in all_items:\n",
    "    if item in item_counts:\n",
    "        item_counts[item] += 1\n",
    "    else:\n",
    "        item_counts[item] = 1\n",
    "print(\"C1 (Candidate 1-itemsets) and Support Count:\")\n",
    "for item, count in item_counts.items():\n",
    "    print(f\"Item: {item}, Support Count: {count}\")\n",
    "candidates_c2 = list(combinations(item_counts.keys(), 2))\n",
    "support_c2 = {}\n",
    "for pair in candidates_c2:\n",
    "    count = 0\n",
    "    for transaction in df['Items_bought']:\n",
    "        if all(item in transaction for item in pair):\n",
    "            count += 1\n",
    "    support_c2[pair] = count\n",
    "min_support = 2\n",
    "L2 = {pair: count for pair, count in support_c2.items() if count >= min_support}\n",
    "df_c2 = pd.DataFrame(support_c2.items(), columns=[\"2-itemset\", \"Support Count\"])\n",
    "df_l2 = pd.DataFrame(L2.items(), columns=[\"2-itemset\", \"Support Count\"])\n",
    "print(\"\\nC2 (Candidate 2-itemsets) and Support Count:\")\n",
    "print(df_c2)\n",
    "print(\"\\nL2 (Frequent 2-itemsets) after applying minimum support:\")\n",
    "print(df_l2)"
   ]
  },
  {
   "cell_type": "code",
   "execution_count": null,
   "id": "6cae6c51",
   "metadata": {},
   "outputs": [],
   "source": []
  }
 ],
 "metadata": {
  "kernelspec": {
   "display_name": "Python 3 (ipykernel)",
   "language": "python",
   "name": "python3"
  },
  "language_info": {
   "codemirror_mode": {
    "name": "ipython",
    "version": 3
   },
   "file_extension": ".py",
   "mimetype": "text/x-python",
   "name": "python",
   "nbconvert_exporter": "python",
   "pygments_lexer": "ipython3",
   "version": "3.11.4"
  }
 },
 "nbformat": 4,
 "nbformat_minor": 5
}
